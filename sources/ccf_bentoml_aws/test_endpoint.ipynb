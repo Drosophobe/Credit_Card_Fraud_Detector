{
 "cells": [
  {
   "cell_type": "code",
   "execution_count": 1,
   "id": "43fd7e7c",
   "metadata": {},
   "outputs": [],
   "source": [
    "import json\n",
    "import requests\n",
    "import numpy as np"
   ]
  },
  {
   "cell_type": "code",
   "execution_count": 2,
   "id": "71a8aff5",
   "metadata": {},
   "outputs": [
    {
     "data": {
      "text/plain": [
       "'[1.0]'"
      ]
     },
     "execution_count": 2,
     "metadata": {},
     "output_type": "execute_result"
    }
   ],
   "source": [
    "endpoint = \"https://43nmp9726g.execute-api.eu-west-3.amazonaws.com/classify\"\n",
    "\n",
    "sample = np.array([[4.158589,0.079312,8.314564,1,0,0,1]])\n",
    "sample_json = json.dumps(sample.tolist())\n",
    "\n",
    "response = requests.post(endpoint, headers={\"content-type\": \"application/json\"}, data=sample_json)\n",
    "response.text"
   ]
  },
  {
   "cell_type": "code",
   "execution_count": null,
   "id": "a59932c4",
   "metadata": {},
   "outputs": [],
   "source": []
  }
 ],
 "metadata": {
  "kernelspec": {
   "display_name": "Python 3 (ipykernel)",
   "language": "python",
   "name": "python3"
  },
  "language_info": {
   "codemirror_mode": {
    "name": "ipython",
    "version": 3
   },
   "file_extension": ".py",
   "mimetype": "text/x-python",
   "name": "python",
   "nbconvert_exporter": "python",
   "pygments_lexer": "ipython3",
   "version": "3.10.8"
  }
 },
 "nbformat": 4,
 "nbformat_minor": 5
}
