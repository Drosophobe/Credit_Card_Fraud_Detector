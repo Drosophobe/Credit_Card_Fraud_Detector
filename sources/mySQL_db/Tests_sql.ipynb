{
 "cells": [
  {
   "cell_type": "code",
   "execution_count": 120,
   "id": "f55bb07d",
   "metadata": {},
   "outputs": [],
   "source": [
    "import mysql.connector \n",
    "import pandas as pd\n",
    "from mysql.connector import Error\n",
    "import numpy as np"
   ]
  },
  {
   "cell_type": "code",
   "execution_count": 68,
   "id": "4a412c39",
   "metadata": {},
   "outputs": [],
   "source": [
    "def load_data_from_db(db_name):\n",
    "    try:\n",
    "        connection = mysql.connector.connect(host='127.0.0.1', database = 'ccf_data', user = 'root', password = '',autocommit=True)\n",
    "        if connection.is_connected():\n",
    "            db_Info = connection.get_server_info()\n",
    "            print(\"Connected to MySQL Server version \", db_Info)\n",
    "            cursor = connection.cursor()\n",
    "            cursor.execute(\"select database();\")\n",
    "            record = cursor.fetchone()\n",
    "            print(\"You're connected to database: \", record)\n",
    "            df = pd.read_sql('SELECT * FROM {}'.format(db_name), con=connection)\n",
    "            return df\n",
    "    except Error as e:\n",
    "        print(\"Error while connecting to MySQL\", e)\n",
    "    finally:\n",
    "        if connection.is_connected():\n",
    "            cursor.close()\n",
    "            connection.close()\n",
    "            print(\"MySQL connection is closed\")\n",
    "    "
   ]
  },
  {
   "cell_type": "code",
   "execution_count": 64,
   "id": "e8fe8ce2",
   "metadata": {},
   "outputs": [],
   "source": [
    "def insert_prediction_to_db(db_name=\"ccf_data\", table_name=\"ccf_data_i\", ):\n",
    "    try :\n",
    "        connection = mysql.connector.connect(host='127.0.0.1', database = 'ccf_data', user = 'root', password = '', autocommit=True)\n",
    "        mySql_Insert_Table_Query = f\"\"\"INSERT INTO {db_name}.{table_name} SELECT * FROM ccf_data.ccf_data_to_add;  \"\"\"\n",
    "        cursor = connection.cursor()\n",
    "        result_1 = cursor.execute(mySql_Insert_Table_Query)\n",
    "        # We Will remove values from data_remaining table to avoid duplicated values \n",
    "        mySQL_Remove_Values_Query = f\"\"\"DELETE  FROM ccf_data_remaining WHERE ROUND(distance_from_home, 4) IN (SELECT ROUND(distance_from_home, 4) FROM ccf_data_to_add) AND ROUND(distance_from_last_transaction, 4) IN (SELECT ROUND(distance_from_last_transaction, 4) FROM ccf_data_to_add) AND ROUND(ratio_to_median_purchase_price, 4) IN (SELECT ROUND(ratio_to_median_purchase_price, 4) FROM ccf_data_to_add);\"\"\"\n",
    "        result_4 = cursor.execute(mySQL_Remove_Values_Query)\n",
    "        # Then we can discard predictions from ccf_data_to_add\n",
    "        mySql_Delete_Table_Query = f\"\"\"DELETE FROM {db_name}.ccf_data_to_add;\"\"\"\n",
    "        result_3 = cursor.execute(mySql_Delete_Table_Query)\n",
    "        print(\"Update and Delete tables successfull\")\n",
    "        connection.commit()\n",
    "        print(connection.autocommit)\n",
    "    except mysql.connector.Error as error:\n",
    "        print(\"Failed to create table in MySQL: {}\".format(error))\n",
    "    finally:\n",
    "        if connection.is_connected():\n",
    "            cursor.close()\n",
    "            connection.close()\n",
    "            print(\"MySQL connection is closed\")"
   ]
  },
  {
   "cell_type": "code",
   "execution_count": 39,
   "id": "e71311bd",
   "metadata": {},
   "outputs": [],
   "source": [
    "def save_prediction_to_db(values, db_name = \"ccf_data\", table_name=\"ccf_data_to_add\"):\n",
    "    try :\n",
    "        connection = mysql.connector.connect(host='127.0.0.1', database = db_name, user = 'root', password = '', autocommit=True)\n",
    "        # \n",
    "        mySql_Create_Table_Query = f\"\"\"INSERT INTO {db_name}.{table_name} (distance_from_home, distance_from_last_transaction, ratio_to_median_purchase_price, repeat_retailer, user_chip, used_pin_number, online_order, fraud ) VALUES ({float(values[\"distance_from_home\"])}, {float(values[\"distance_from_last_transaction\"])}, {float(values[\"ratio_to_median_purchase_price\"])}, {int(values[\"repeat_retailer\"])}, {int(values[\"user_chip\"])}, {int(values[\"used_pin_number\"])}, {int(values[\"online_order\"])}, {int(values[\"fraud\"])});  \"\"\"\n",
    "        cursor = connection.cursor()\n",
    "        # Il faut rajouter : si ça vient de la db print(\"salut \") sinon print('NTM')\n",
    "        result = cursor.execute(mySql_Create_Table_Query)\n",
    "        print(\"Laptop Table created successfully \")\n",
    "        connection.commit()\n",
    "        print(connection.autocommit)\n",
    "    except mysql.connector.Error as error:\n",
    "        print(\"Failed to create table in MySQL: {}\".format(error))\n",
    "    finally:\n",
    "        if connection.is_connected():\n",
    "            cursor.close()\n",
    "            connection.close()\n",
    "            print(\"MySQL connection is closed\")"
   ]
  },
  {
   "cell_type": "code",
   "execution_count": 65,
   "id": "a7c66444",
   "metadata": {},
   "outputs": [
    {
     "name": "stdout",
     "output_type": "stream",
     "text": [
      "Update and Delete tables successfull\n",
      "True\n",
      "MySQL connection is closed\n"
     ]
    }
   ],
   "source": [
    "insert_prediction_to_db()"
   ]
  },
  {
   "cell_type": "code",
   "execution_count": 151,
   "id": "f52f8982",
   "metadata": {},
   "outputs": [
    {
     "name": "stdout",
     "output_type": "stream",
     "text": [
      "Laptop Table created successfully \n",
      "True\n",
      "MySQL connection is closed\n"
     ]
    }
   ],
   "source": [
    "save_prediction_to_db(values = df_full[-1001:-1000])"
   ]
  },
  {
   "cell_type": "code",
   "execution_count": 55,
   "id": "33daece8",
   "metadata": {},
   "outputs": [
    {
     "name": "stdout",
     "output_type": "stream",
     "text": [
      "Connected to MySQL Server version  8.0.31\n",
      "You're connected to database:  ('ccf_data',)\n"
     ]
    }
   ],
   "source": [
    "try:\n",
    "    connection = mysql.connector.connect(host='127.0.0.1', database = 'ccf_data', user = 'root', password = '',autocommit=True)\n",
    "    if connection.is_connected():\n",
    "        db_Info = connection.get_server_info()\n",
    "        print(\"Connected to MySQL Server version \", db_Info)\n",
    "        cursor = connection.cursor()\n",
    "        cursor.execute(\"select database();\")\n",
    "        record = cursor.fetchone()\n",
    "        print(\"You're connected to database: \", record)\n",
    "        \n",
    "except Error as e:\n",
    "    print(\"Error while connecting to MySQL\", e)"
   ]
  },
  {
   "cell_type": "code",
   "execution_count": 23,
   "id": "fb536024",
   "metadata": {},
   "outputs": [
    {
     "name": "stdout",
     "output_type": "stream",
     "text": [
      "Connected to MySQL Server version  8.0.31\n",
      "You're connected to database:  ('ccf_data',)\n"
     ]
    },
    {
     "name": "stderr",
     "output_type": "stream",
     "text": [
      "/var/folders/2m/j3dvm9jx2_nb2cdjtp62_c340000gn/T/ipykernel_6629/1194592606.py:11: UserWarning: pandas only supports SQLAlchemy connectable (engine/connection) or database string URI or sqlite3 DBAPI2 connection. Other DBAPI2 objects are not tested. Please consider using SQLAlchemy.\n",
      "  df = pd.read_sql('SELECT * FROM {}'.format(db_name), con=connection)\n"
     ]
    },
    {
     "name": "stdout",
     "output_type": "stream",
     "text": [
      "MySQL connection is closed\n"
     ]
    }
   ],
   "source": [
    "df_full = load_data_from_db(\"ccf_data_full\")"
   ]
  },
  {
   "cell_type": "code",
   "execution_count": 156,
   "id": "91c2d879",
   "metadata": {},
   "outputs": [
    {
     "data": {
      "text/html": [
       "<div>\n",
       "<style scoped>\n",
       "    .dataframe tbody tr th:only-of-type {\n",
       "        vertical-align: middle;\n",
       "    }\n",
       "\n",
       "    .dataframe tbody tr th {\n",
       "        vertical-align: top;\n",
       "    }\n",
       "\n",
       "    .dataframe thead th {\n",
       "        text-align: right;\n",
       "    }\n",
       "</style>\n",
       "<table border=\"1\" class=\"dataframe\">\n",
       "  <thead>\n",
       "    <tr style=\"text-align: right;\">\n",
       "      <th></th>\n",
       "      <th>distance_from_home</th>\n",
       "      <th>distance_from_last_transaction</th>\n",
       "      <th>ratio_to_median_purchase_price</th>\n",
       "      <th>repeat_retailer</th>\n",
       "      <th>user_chip</th>\n",
       "      <th>used_pin_number</th>\n",
       "      <th>online_order</th>\n",
       "      <th>fraud</th>\n",
       "    </tr>\n",
       "  </thead>\n",
       "  <tbody>\n",
       "    <tr>\n",
       "      <th>999995</th>\n",
       "      <td>2.20710</td>\n",
       "      <td>0.112651</td>\n",
       "      <td>1.626800</td>\n",
       "      <td>1</td>\n",
       "      <td>1</td>\n",
       "      <td>0</td>\n",
       "      <td>0</td>\n",
       "      <td>0</td>\n",
       "    </tr>\n",
       "    <tr>\n",
       "      <th>999996</th>\n",
       "      <td>19.87270</td>\n",
       "      <td>2.683900</td>\n",
       "      <td>2.778300</td>\n",
       "      <td>1</td>\n",
       "      <td>1</td>\n",
       "      <td>0</td>\n",
       "      <td>0</td>\n",
       "      <td>0</td>\n",
       "    </tr>\n",
       "    <tr>\n",
       "      <th>999997</th>\n",
       "      <td>2.91486</td>\n",
       "      <td>1.472690</td>\n",
       "      <td>0.218075</td>\n",
       "      <td>1</td>\n",
       "      <td>1</td>\n",
       "      <td>0</td>\n",
       "      <td>1</td>\n",
       "      <td>0</td>\n",
       "    </tr>\n",
       "    <tr>\n",
       "      <th>999998</th>\n",
       "      <td>4.25873</td>\n",
       "      <td>0.242023</td>\n",
       "      <td>0.475822</td>\n",
       "      <td>1</td>\n",
       "      <td>0</td>\n",
       "      <td>0</td>\n",
       "      <td>1</td>\n",
       "      <td>0</td>\n",
       "    </tr>\n",
       "    <tr>\n",
       "      <th>999999</th>\n",
       "      <td>58.10810</td>\n",
       "      <td>0.318110</td>\n",
       "      <td>0.386920</td>\n",
       "      <td>1</td>\n",
       "      <td>1</td>\n",
       "      <td>0</td>\n",
       "      <td>1</td>\n",
       "      <td>0</td>\n",
       "    </tr>\n",
       "  </tbody>\n",
       "</table>\n",
       "</div>"
      ],
      "text/plain": [
       "        distance_from_home  distance_from_last_transaction  \\\n",
       "999995             2.20710                        0.112651   \n",
       "999996            19.87270                        2.683900   \n",
       "999997             2.91486                        1.472690   \n",
       "999998             4.25873                        0.242023   \n",
       "999999            58.10810                        0.318110   \n",
       "\n",
       "        ratio_to_median_purchase_price  repeat_retailer  user_chip  \\\n",
       "999995                        1.626800                1          1   \n",
       "999996                        2.778300                1          1   \n",
       "999997                        0.218075                1          1   \n",
       "999998                        0.475822                1          0   \n",
       "999999                        0.386920                1          1   \n",
       "\n",
       "        used_pin_number  online_order  fraud  \n",
       "999995                0             0      0  \n",
       "999996                0             0      0  \n",
       "999997                0             1      0  \n",
       "999998                0             1      0  \n",
       "999999                0             1      0  "
      ]
     },
     "execution_count": 156,
     "metadata": {},
     "output_type": "execute_result"
    }
   ],
   "source": [
    "df_full.tail()"
   ]
  },
  {
   "cell_type": "code",
   "execution_count": 62,
   "id": "8fc86588",
   "metadata": {},
   "outputs": [
    {
     "data": {
      "text/plain": [
       "0"
      ]
     },
     "execution_count": 62,
     "metadata": {},
     "output_type": "execute_result"
    }
   ],
   "source": [
    "round(df_full[[\"distance_from_home\", \"distance_from_last_transaction\", \"ratio_to_median_purchase_price\"]], 4).duplicated().sum()"
   ]
  },
  {
   "cell_type": "code",
   "execution_count": 17,
   "id": "791ef08a",
   "metadata": {},
   "outputs": [
    {
     "data": {
      "text/plain": [
       "0"
      ]
     },
     "execution_count": 17,
     "metadata": {},
     "output_type": "execute_result"
    }
   ],
   "source": [
    "df_full.duplicated().sum()"
   ]
  },
  {
   "cell_type": "code",
   "execution_count": 69,
   "id": "e6f1cf21",
   "metadata": {},
   "outputs": [
    {
     "name": "stdout",
     "output_type": "stream",
     "text": [
      "Connected to MySQL Server version  8.0.31\n",
      "You're connected to database:  ('ccf_data',)\n",
      "MySQL connection is closed\n"
     ]
    },
    {
     "name": "stderr",
     "output_type": "stream",
     "text": [
      "/var/folders/2m/j3dvm9jx2_nb2cdjtp62_c340000gn/T/ipykernel_6629/1194592606.py:11: UserWarning: pandas only supports SQLAlchemy connectable (engine/connection) or database string URI or sqlite3 DBAPI2 connection. Other DBAPI2 objects are not tested. Please consider using SQLAlchemy.\n",
      "  df = pd.read_sql('SELECT * FROM {}'.format(db_name), con=connection)\n"
     ]
    }
   ],
   "source": [
    "df_partial = load_data_from_db(\"ccf_data_partial\")"
   ]
  },
  {
   "cell_type": "code",
   "execution_count": 88,
   "id": "d232a624",
   "metadata": {},
   "outputs": [
    {
     "data": {
      "text/plain": [
       "(1000, 8)"
      ]
     },
     "execution_count": 88,
     "metadata": {},
     "output_type": "execute_result"
    }
   ],
   "source": [
    "df_partial.shape"
   ]
  },
  {
   "cell_type": "code",
   "execution_count": 84,
   "id": "c13c420e",
   "metadata": {},
   "outputs": [
    {
     "name": "stdout",
     "output_type": "stream",
     "text": [
      "Connected to MySQL Server version  8.0.31\n",
      "You're connected to database:  ('ccf_data',)\n",
      "MySQL connection is closed\n"
     ]
    },
    {
     "name": "stderr",
     "output_type": "stream",
     "text": [
      "/var/folders/2m/j3dvm9jx2_nb2cdjtp62_c340000gn/T/ipykernel_17324/1194592606.py:11: UserWarning: pandas only supports SQLAlchemy connectable (engine/connection) or database string URI or sqlite3 DBAPI2 connection. Other DBAPI2 objects are not tested. Please consider using SQLAlchemy.\n",
      "  df = pd.read_sql('SELECT * FROM {}'.format(db_name), con=connection)\n"
     ]
    },
    {
     "data": {
      "text/html": [
       "<div>\n",
       "<style scoped>\n",
       "    .dataframe tbody tr th:only-of-type {\n",
       "        vertical-align: middle;\n",
       "    }\n",
       "\n",
       "    .dataframe tbody tr th {\n",
       "        vertical-align: top;\n",
       "    }\n",
       "\n",
       "    .dataframe thead th {\n",
       "        text-align: right;\n",
       "    }\n",
       "</style>\n",
       "<table border=\"1\" class=\"dataframe\">\n",
       "  <thead>\n",
       "    <tr style=\"text-align: right;\">\n",
       "      <th></th>\n",
       "      <th>distance_from_home</th>\n",
       "      <th>distance_from_last_transaction</th>\n",
       "      <th>ratio_to_median_purchase_price</th>\n",
       "      <th>repeat_retailer</th>\n",
       "      <th>user_chip</th>\n",
       "      <th>used_pin_number</th>\n",
       "      <th>online_order</th>\n",
       "      <th>fraud</th>\n",
       "    </tr>\n",
       "  </thead>\n",
       "  <tbody>\n",
       "    <tr>\n",
       "      <th>0</th>\n",
       "      <td>57.87790</td>\n",
       "      <td>0.311140</td>\n",
       "      <td>1.945940</td>\n",
       "      <td>1</td>\n",
       "      <td>1</td>\n",
       "      <td>0</td>\n",
       "      <td>0</td>\n",
       "      <td>0</td>\n",
       "    </tr>\n",
       "    <tr>\n",
       "      <th>1</th>\n",
       "      <td>10.82990</td>\n",
       "      <td>0.175591</td>\n",
       "      <td>1.294220</td>\n",
       "      <td>1</td>\n",
       "      <td>0</td>\n",
       "      <td>0</td>\n",
       "      <td>0</td>\n",
       "      <td>0</td>\n",
       "    </tr>\n",
       "    <tr>\n",
       "      <th>2</th>\n",
       "      <td>5.09108</td>\n",
       "      <td>0.805153</td>\n",
       "      <td>0.427715</td>\n",
       "      <td>1</td>\n",
       "      <td>0</td>\n",
       "      <td>0</td>\n",
       "      <td>1</td>\n",
       "      <td>0</td>\n",
       "    </tr>\n",
       "    <tr>\n",
       "      <th>3</th>\n",
       "      <td>2.24756</td>\n",
       "      <td>5.600040</td>\n",
       "      <td>0.362663</td>\n",
       "      <td>1</td>\n",
       "      <td>1</td>\n",
       "      <td>0</td>\n",
       "      <td>1</td>\n",
       "      <td>0</td>\n",
       "    </tr>\n",
       "    <tr>\n",
       "      <th>4</th>\n",
       "      <td>44.19090</td>\n",
       "      <td>0.566486</td>\n",
       "      <td>2.222770</td>\n",
       "      <td>1</td>\n",
       "      <td>1</td>\n",
       "      <td>0</td>\n",
       "      <td>1</td>\n",
       "      <td>0</td>\n",
       "    </tr>\n",
       "  </tbody>\n",
       "</table>\n",
       "</div>"
      ],
      "text/plain": [
       "   distance_from_home  distance_from_last_transaction  \\\n",
       "0            57.87790                        0.311140   \n",
       "1            10.82990                        0.175591   \n",
       "2             5.09108                        0.805153   \n",
       "3             2.24756                        5.600040   \n",
       "4            44.19090                        0.566486   \n",
       "\n",
       "   ratio_to_median_purchase_price  repeat_retailer  user_chip  \\\n",
       "0                        1.945940                1          1   \n",
       "1                        1.294220                1          0   \n",
       "2                        0.427715                1          0   \n",
       "3                        0.362663                1          1   \n",
       "4                        2.222770                1          1   \n",
       "\n",
       "   used_pin_number  online_order  fraud  \n",
       "0                0             0      0  \n",
       "1                0             0      0  \n",
       "2                0             1      0  \n",
       "3                0             1      0  \n",
       "4                0             1      0  "
      ]
     },
     "execution_count": 84,
     "metadata": {},
     "output_type": "execute_result"
    }
   ],
   "source": [
    "df_i = load_data_from_db(\"ccf_data_i\")\n",
    "df_i.head()"
   ]
  },
  {
   "cell_type": "code",
   "execution_count": 70,
   "id": "ee7bc3d7",
   "metadata": {},
   "outputs": [
    {
     "data": {
      "text/plain": [
       "(1000, 8)"
      ]
     },
     "execution_count": 70,
     "metadata": {},
     "output_type": "execute_result"
    }
   ],
   "source": [
    "df_i.shape"
   ]
  },
  {
   "cell_type": "code",
   "execution_count": 9,
   "id": "e866d270",
   "metadata": {},
   "outputs": [
    {
     "data": {
      "text/html": [
       "<div>\n",
       "<style scoped>\n",
       "    .dataframe tbody tr th:only-of-type {\n",
       "        vertical-align: middle;\n",
       "    }\n",
       "\n",
       "    .dataframe tbody tr th {\n",
       "        vertical-align: top;\n",
       "    }\n",
       "\n",
       "    .dataframe thead th {\n",
       "        text-align: right;\n",
       "    }\n",
       "</style>\n",
       "<table border=\"1\" class=\"dataframe\">\n",
       "  <thead>\n",
       "    <tr style=\"text-align: right;\">\n",
       "      <th></th>\n",
       "      <th>distance_from_home</th>\n",
       "      <th>distance_from_last_transaction</th>\n",
       "      <th>ratio_to_median_purchase_price</th>\n",
       "      <th>repeat_retailer</th>\n",
       "      <th>user_chip</th>\n",
       "      <th>used_pin_number</th>\n",
       "      <th>online_order</th>\n",
       "      <th>fraud</th>\n",
       "    </tr>\n",
       "  </thead>\n",
       "  <tbody>\n",
       "    <tr>\n",
       "      <th>999999</th>\n",
       "      <td>58.1081</td>\n",
       "      <td>0.31811</td>\n",
       "      <td>0.38692</td>\n",
       "      <td>1</td>\n",
       "      <td>1</td>\n",
       "      <td>0</td>\n",
       "      <td>1</td>\n",
       "      <td>0</td>\n",
       "    </tr>\n",
       "  </tbody>\n",
       "</table>\n",
       "</div>"
      ],
      "text/plain": [
       "        distance_from_home  distance_from_last_transaction  \\\n",
       "999999             58.1081                         0.31811   \n",
       "\n",
       "        ratio_to_median_purchase_price  repeat_retailer  user_chip  \\\n",
       "999999                         0.38692                1          1   \n",
       "\n",
       "        used_pin_number  online_order  fraud  \n",
       "999999                0             1      0  "
      ]
     },
     "execution_count": 9,
     "metadata": {},
     "output_type": "execute_result"
    }
   ],
   "source": [
    "values = df_full[-1:]\n",
    "values"
   ]
  },
  {
   "cell_type": "code",
   "execution_count": 60,
   "id": "2443e165",
   "metadata": {},
   "outputs": [
    {
     "name": "stdout",
     "output_type": "stream",
     "text": [
      "Laptop Table created successfully \n",
      "True\n",
      "MySQL connection is closed\n"
     ]
    }
   ],
   "source": [
    "try:\n",
    "    connection = mysql.connector.connect(host='127.0.0.1', database = 'ccf_data', user = 'root', password = '',autocommit=True)\n",
    "    mySql_Create_Table_Query = f\"\"\"INSERT INTO ccf_data.ccf_data_i (distance_from_home, distance_from_last_transaction, ratio_to_median_purchase_price, repeat_retailer, user_chip, used_pin_number, online_order, fraud ) VALUES (58.1081, 0.31811, 0.38692, 1, 1, 0, 1, 0);  \"\"\"\n",
    "    cursor = connection.cursor()\n",
    "    result = cursor.execute(mySql_Create_Table_Query)\n",
    "    print(\"Laptop Table created successfully \")\n",
    "    connection.commit()\n",
    "    print(connection.autocommit)\n",
    "except mysql.connector.Error as error:\n",
    "    print(\"Failed to create table in MySQL: {}\".format(error))\n",
    "finally:\n",
    "    if connection.is_connected():\n",
    "        cursor.close()\n",
    "        connection.close()\n",
    "        print(\"MySQL connection is closed\")"
   ]
  },
  {
   "cell_type": "code",
   "execution_count": 93,
   "id": "e8af064a",
   "metadata": {
    "scrolled": true
   },
   "outputs": [
    {
     "name": "stdout",
     "output_type": "stream",
     "text": [
      "Connected to MySQL Server version  8.0.31\n",
      "You're connected to database:  ('ccf_data',)\n",
      "MySQL connection is closed\n"
     ]
    },
    {
     "name": "stderr",
     "output_type": "stream",
     "text": [
      "/var/folders/2m/j3dvm9jx2_nb2cdjtp62_c340000gn/T/ipykernel_6629/1194592606.py:11: UserWarning: pandas only supports SQLAlchemy connectable (engine/connection) or database string URI or sqlite3 DBAPI2 connection. Other DBAPI2 objects are not tested. Please consider using SQLAlchemy.\n",
      "  df = pd.read_sql('SELECT * FROM {}'.format(db_name), con=connection)\n"
     ]
    },
    {
     "data": {
      "text/html": [
       "<div>\n",
       "<style scoped>\n",
       "    .dataframe tbody tr th:only-of-type {\n",
       "        vertical-align: middle;\n",
       "    }\n",
       "\n",
       "    .dataframe tbody tr th {\n",
       "        vertical-align: top;\n",
       "    }\n",
       "\n",
       "    .dataframe thead th {\n",
       "        text-align: right;\n",
       "    }\n",
       "</style>\n",
       "<table border=\"1\" class=\"dataframe\">\n",
       "  <thead>\n",
       "    <tr style=\"text-align: right;\">\n",
       "      <th></th>\n",
       "      <th>distance_from_home</th>\n",
       "      <th>distance_from_last_transaction</th>\n",
       "      <th>ratio_to_median_purchase_price</th>\n",
       "      <th>repeat_retailer</th>\n",
       "      <th>user_chip</th>\n",
       "      <th>used_pin_number</th>\n",
       "      <th>online_order</th>\n",
       "      <th>fraud</th>\n",
       "    </tr>\n",
       "  </thead>\n",
       "  <tbody>\n",
       "    <tr>\n",
       "      <th>995</th>\n",
       "      <td>9.87342</td>\n",
       "      <td>1.022590</td>\n",
       "      <td>0.346643</td>\n",
       "      <td>1</td>\n",
       "      <td>0</td>\n",
       "      <td>0</td>\n",
       "      <td>0</td>\n",
       "      <td>0</td>\n",
       "    </tr>\n",
       "    <tr>\n",
       "      <th>996</th>\n",
       "      <td>168.09200</td>\n",
       "      <td>6.304360</td>\n",
       "      <td>0.416833</td>\n",
       "      <td>1</td>\n",
       "      <td>1</td>\n",
       "      <td>0</td>\n",
       "      <td>0</td>\n",
       "      <td>0</td>\n",
       "    </tr>\n",
       "    <tr>\n",
       "      <th>997</th>\n",
       "      <td>44.04760</td>\n",
       "      <td>0.510298</td>\n",
       "      <td>0.624706</td>\n",
       "      <td>1</td>\n",
       "      <td>0</td>\n",
       "      <td>0</td>\n",
       "      <td>1</td>\n",
       "      <td>0</td>\n",
       "    </tr>\n",
       "    <tr>\n",
       "      <th>998</th>\n",
       "      <td>2.99842</td>\n",
       "      <td>0.193681</td>\n",
       "      <td>0.743416</td>\n",
       "      <td>1</td>\n",
       "      <td>1</td>\n",
       "      <td>0</td>\n",
       "      <td>1</td>\n",
       "      <td>0</td>\n",
       "    </tr>\n",
       "    <tr>\n",
       "      <th>999</th>\n",
       "      <td>38.13340</td>\n",
       "      <td>0.167059</td>\n",
       "      <td>3.965640</td>\n",
       "      <td>1</td>\n",
       "      <td>0</td>\n",
       "      <td>0</td>\n",
       "      <td>1</td>\n",
       "      <td>0</td>\n",
       "    </tr>\n",
       "  </tbody>\n",
       "</table>\n",
       "</div>"
      ],
      "text/plain": [
       "     distance_from_home  distance_from_last_transaction  \\\n",
       "995             9.87342                        1.022590   \n",
       "996           168.09200                        6.304360   \n",
       "997            44.04760                        0.510298   \n",
       "998             2.99842                        0.193681   \n",
       "999            38.13340                        0.167059   \n",
       "\n",
       "     ratio_to_median_purchase_price  repeat_retailer  user_chip  \\\n",
       "995                        0.346643                1          0   \n",
       "996                        0.416833                1          1   \n",
       "997                        0.624706                1          0   \n",
       "998                        0.743416                1          1   \n",
       "999                        3.965640                1          0   \n",
       "\n",
       "     used_pin_number  online_order  fraud  \n",
       "995                0             0      0  \n",
       "996                0             0      0  \n",
       "997                0             1      0  \n",
       "998                0             1      0  \n",
       "999                0             1      0  "
      ]
     },
     "execution_count": 93,
     "metadata": {},
     "output_type": "execute_result"
    }
   ],
   "source": [
    "df_i = load_data_from_db(\"ccf_data_i\")\n",
    "df_i.tail()"
   ]
  },
  {
   "cell_type": "code",
   "execution_count": 89,
   "id": "2277f5b3",
   "metadata": {},
   "outputs": [
    {
     "name": "stdout",
     "output_type": "stream",
     "text": [
      "Laptop Table created successfully \n",
      "True\n",
      "MySQL connection is closed\n"
     ]
    }
   ],
   "source": [
    "insert_prediction_to_db(values = df_full[-2:-1])"
   ]
  },
  {
   "cell_type": "code",
   "execution_count": 163,
   "id": "0e0d0fac",
   "metadata": {},
   "outputs": [],
   "source": [
    "df = pd.DataFrame(columns = [\"distance_from_home\", \"distance_from_last_transaction\", \"ratio_to_median_purchase_price\", \"repeat_retailer\", \"user_chip\", \"used_pin_number\", \"online_order\"])"
   ]
  },
  {
   "cell_type": "code",
   "execution_count": 102,
   "id": "c40284e5",
   "metadata": {},
   "outputs": [
    {
     "data": {
      "text/html": [
       "<div>\n",
       "<style scoped>\n",
       "    .dataframe tbody tr th:only-of-type {\n",
       "        vertical-align: middle;\n",
       "    }\n",
       "\n",
       "    .dataframe tbody tr th {\n",
       "        vertical-align: top;\n",
       "    }\n",
       "\n",
       "    .dataframe thead th {\n",
       "        text-align: right;\n",
       "    }\n",
       "</style>\n",
       "<table border=\"1\" class=\"dataframe\">\n",
       "  <thead>\n",
       "    <tr style=\"text-align: right;\">\n",
       "      <th></th>\n",
       "      <th>distance_from_home</th>\n",
       "      <th>distance_from_last_transaction</th>\n",
       "      <th>ratio_to_median_purchase_price</th>\n",
       "      <th>repeat_retailer</th>\n",
       "      <th>user_chip</th>\n",
       "      <th>used_pin_number</th>\n",
       "      <th>online_order</th>\n",
       "      <th>fraud</th>\n",
       "    </tr>\n",
       "  </thead>\n",
       "  <tbody>\n",
       "  </tbody>\n",
       "</table>\n",
       "</div>"
      ],
      "text/plain": [
       "Empty DataFrame\n",
       "Columns: [distance_from_home, distance_from_last_transaction, ratio_to_median_purchase_price, repeat_retailer, user_chip, used_pin_number, online_order, fraud]\n",
       "Index: []"
      ]
     },
     "execution_count": 102,
     "metadata": {},
     "output_type": "execute_result"
    }
   ],
   "source": [
    "df.head()"
   ]
  },
  {
   "cell_type": "code",
   "execution_count": 164,
   "id": "bd1a16f0",
   "metadata": {},
   "outputs": [
    {
     "name": "stderr",
     "output_type": "stream",
     "text": [
      "/var/folders/2m/j3dvm9jx2_nb2cdjtp62_c340000gn/T/ipykernel_6629/4202618930.py:1: FutureWarning: The frame.append method is deprecated and will be removed from pandas in a future version. Use pandas.concat instead.\n",
      "  df = df.append(pd.Series([2.91486, 1.472690, 0.218075, 1, 1, 0, 1], index = [\"distance_from_home\", \"distance_from_last_transaction\", \"ratio_to_median_purchase_price\", \"repeat_retailer\", \"user_chip\", \"used_pin_number\", \"online_order\"]),\n"
     ]
    }
   ],
   "source": [
    "df = df.append(pd.Series([2.91486, 1.472690, 0.218075, 1, 1, 0, 1], index = [\"distance_from_home\", \"distance_from_last_transaction\", \"ratio_to_median_purchase_price\", \"repeat_retailer\", \"user_chip\", \"used_pin_number\", \"online_order\"]), \n",
    "           ignore_index=True)"
   ]
  },
  {
   "cell_type": "code",
   "execution_count": 123,
   "id": "2c57dd95",
   "metadata": {},
   "outputs": [
    {
     "ename": "TypeError",
     "evalue": "array() takes from 1 to 2 positional arguments but 8 were given",
     "output_type": "error",
     "traceback": [
      "\u001b[0;31m---------------------------------------------------------------------------\u001b[0m",
      "\u001b[0;31mTypeError\u001b[0m                                 Traceback (most recent call last)",
      "Cell \u001b[0;32mIn [123], line 1\u001b[0m\n\u001b[0;32m----> 1\u001b[0m df \u001b[38;5;241m=\u001b[39m  pd\u001b[38;5;241m.\u001b[39mDataFrame(\u001b[43mnp\u001b[49m\u001b[38;5;241;43m.\u001b[39;49m\u001b[43marray\u001b[49m\u001b[43m(\u001b[49m\u001b[43m[\u001b[49m\u001b[38;5;241;43m9.87342\u001b[39;49m\u001b[43m]\u001b[49m\u001b[43m,\u001b[49m\u001b[43m \u001b[49m\u001b[43m[\u001b[49m\u001b[38;5;241;43m1.022590\u001b[39;49m\u001b[43m]\u001b[49m\u001b[43m,\u001b[49m\u001b[43m \u001b[49m\u001b[43m[\u001b[49m\u001b[38;5;241;43m0.346643\u001b[39;49m\u001b[43m]\u001b[49m\u001b[43m,\u001b[49m\u001b[43m \u001b[49m\u001b[43m[\u001b[49m\u001b[38;5;241;43m1\u001b[39;49m\u001b[43m]\u001b[49m\u001b[43m,\u001b[49m\u001b[43m \u001b[49m\u001b[43m[\u001b[49m\u001b[38;5;241;43m0\u001b[39;49m\u001b[43m]\u001b[49m\u001b[43m,\u001b[49m\u001b[43m \u001b[49m\u001b[43m[\u001b[49m\u001b[38;5;241;43m0\u001b[39;49m\u001b[43m]\u001b[49m\u001b[43m,\u001b[49m\u001b[43m \u001b[49m\u001b[43m[\u001b[49m\u001b[38;5;241;43m0\u001b[39;49m\u001b[43m]\u001b[49m\u001b[43m,\u001b[49m\u001b[43m \u001b[49m\u001b[43m[\u001b[49m\u001b[38;5;241;43m0\u001b[39;49m\u001b[43m]\u001b[49m\u001b[43m)\u001b[49m,columns \u001b[38;5;241m=\u001b[39m [\u001b[38;5;124m\"\u001b[39m\u001b[38;5;124mdistance_from_home\u001b[39m\u001b[38;5;124m\"\u001b[39m, \u001b[38;5;124m\"\u001b[39m\u001b[38;5;124mdistance_from_last_transaction\u001b[39m\u001b[38;5;124m\"\u001b[39m, \u001b[38;5;124m\"\u001b[39m\u001b[38;5;124mratio_to_median_purchase_price\u001b[39m\u001b[38;5;124m\"\u001b[39m, \u001b[38;5;124m\"\u001b[39m\u001b[38;5;124mrepeat_retailer\u001b[39m\u001b[38;5;124m\"\u001b[39m, \u001b[38;5;124m\"\u001b[39m\u001b[38;5;124muser_chip\u001b[39m\u001b[38;5;124m\"\u001b[39m, \u001b[38;5;124m\"\u001b[39m\u001b[38;5;124mused_pin_number\u001b[39m\u001b[38;5;124m\"\u001b[39m, \u001b[38;5;124m\"\u001b[39m\u001b[38;5;124monline_order\u001b[39m\u001b[38;5;124m\"\u001b[39m, \u001b[38;5;124m\"\u001b[39m\u001b[38;5;124mfraud\u001b[39m\u001b[38;5;124m\"\u001b[39m])\n",
      "\u001b[0;31mTypeError\u001b[0m: array() takes from 1 to 2 positional arguments but 8 were given"
     ]
    }
   ],
   "source": [
    "df =  pd.DataFrame(np.array([9.87342], [1.022590], [0.346643], [1], [0], [0], [0], [0]),columns = [\"distance_from_home\", \"distance_from_last_transaction\", \"ratio_to_median_purchase_price\", \"repeat_retailer\", \"user_chip\", \"used_pin_number\", \"online_order\"])"
   ]
  },
  {
   "cell_type": "code",
   "execution_count": 162,
   "id": "aeb53ec1",
   "metadata": {},
   "outputs": [
    {
     "data": {
      "text/html": [
       "<div>\n",
       "<style scoped>\n",
       "    .dataframe tbody tr th:only-of-type {\n",
       "        vertical-align: middle;\n",
       "    }\n",
       "\n",
       "    .dataframe tbody tr th {\n",
       "        vertical-align: top;\n",
       "    }\n",
       "\n",
       "    .dataframe thead th {\n",
       "        text-align: right;\n",
       "    }\n",
       "</style>\n",
       "<table border=\"1\" class=\"dataframe\">\n",
       "  <thead>\n",
       "    <tr style=\"text-align: right;\">\n",
       "      <th></th>\n",
       "      <th>distance_from_home</th>\n",
       "      <th>distance_from_last_transaction</th>\n",
       "      <th>ratio_to_median_purchase_price</th>\n",
       "      <th>repeat_retailer</th>\n",
       "      <th>user_chip</th>\n",
       "      <th>used_pin_number</th>\n",
       "      <th>online_order</th>\n",
       "      <th>fraud</th>\n",
       "    </tr>\n",
       "  </thead>\n",
       "  <tbody>\n",
       "    <tr>\n",
       "      <th>0</th>\n",
       "      <td>2.91486</td>\n",
       "      <td>1.47269</td>\n",
       "      <td>0.218075</td>\n",
       "      <td>1.0</td>\n",
       "      <td>1.0</td>\n",
       "      <td>0.0</td>\n",
       "      <td>1.0</td>\n",
       "      <td>NaN</td>\n",
       "    </tr>\n",
       "  </tbody>\n",
       "</table>\n",
       "</div>"
      ],
      "text/plain": [
       "   distance_from_home  distance_from_last_transaction  \\\n",
       "0             2.91486                         1.47269   \n",
       "\n",
       "   ratio_to_median_purchase_price  repeat_retailer  user_chip  \\\n",
       "0                        0.218075              1.0        1.0   \n",
       "\n",
       "   used_pin_number  online_order fraud  \n",
       "0              0.0           1.0   NaN  "
      ]
     },
     "execution_count": 162,
     "metadata": {},
     "output_type": "execute_result"
    }
   ],
   "source": [
    "df.head()"
   ]
  },
  {
   "cell_type": "code",
   "execution_count": 109,
   "id": "a7e10204",
   "metadata": {},
   "outputs": [
    {
     "data": {
      "text/html": [
       "<div>\n",
       "<style scoped>\n",
       "    .dataframe tbody tr th:only-of-type {\n",
       "        vertical-align: middle;\n",
       "    }\n",
       "\n",
       "    .dataframe tbody tr th {\n",
       "        vertical-align: top;\n",
       "    }\n",
       "\n",
       "    .dataframe thead th {\n",
       "        text-align: right;\n",
       "    }\n",
       "</style>\n",
       "<table border=\"1\" class=\"dataframe\">\n",
       "  <thead>\n",
       "    <tr style=\"text-align: right;\">\n",
       "      <th></th>\n",
       "      <th>distance_from_home</th>\n",
       "      <th>distance_from_last_transaction</th>\n",
       "      <th>ratio_to_median_purchase_price</th>\n",
       "      <th>repeat_retailer</th>\n",
       "      <th>user_chip</th>\n",
       "      <th>used_pin_number</th>\n",
       "      <th>online_order</th>\n",
       "      <th>fraud</th>\n",
       "    </tr>\n",
       "  </thead>\n",
       "  <tbody>\n",
       "    <tr>\n",
       "      <th>0</th>\n",
       "      <td>False</td>\n",
       "      <td>False</td>\n",
       "      <td>False</td>\n",
       "      <td>True</td>\n",
       "      <td>False</td>\n",
       "      <td>True</td>\n",
       "      <td>True</td>\n",
       "      <td>True</td>\n",
       "    </tr>\n",
       "  </tbody>\n",
       "</table>\n",
       "</div>"
      ],
      "text/plain": [
       "   distance_from_home  distance_from_last_transaction  \\\n",
       "0               False                           False   \n",
       "\n",
       "   ratio_to_median_purchase_price  repeat_retailer  user_chip  \\\n",
       "0                           False             True      False   \n",
       "\n",
       "   used_pin_number  online_order  fraud  \n",
       "0             True          True   True  "
      ]
     },
     "execution_count": 109,
     "metadata": {},
     "output_type": "execute_result"
    }
   ],
   "source": [
    "df.round(3).isin(df_i.round(3))"
   ]
  },
  {
   "cell_type": "code",
   "execution_count": 128,
   "id": "e069142b",
   "metadata": {},
   "outputs": [
    {
     "name": "stdout",
     "output_type": "stream",
     "text": [
      "999\n",
      "1000\n",
      "False\n"
     ]
    }
   ],
   "source": [
    "res = pd.merge(df_i, df, indicator=True, how='outer').query('_merge==\"left_only\"').drop('_merge', axis=1)\n",
    "\n",
    "# Display Result\n",
    "print(res.shape[0])\n",
    "print(df_i.shape[0])\n",
    "print(res.shape[0] == df_i.shape[0])"
   ]
  },
  {
   "cell_type": "code",
   "execution_count": 142,
   "id": "371dbb52",
   "metadata": {},
   "outputs": [
    {
     "data": {
      "text/plain": [
       "9.87342"
      ]
     },
     "execution_count": 142,
     "metadata": {},
     "output_type": "execute_result"
    }
   ],
   "source": [
    "df[\"distance_from_home\"][0]"
   ]
  },
  {
   "cell_type": "code",
   "execution_count": null,
   "id": "d0457899",
   "metadata": {},
   "outputs": [],
   "source": []
  },
  {
   "cell_type": "code",
   "execution_count": 135,
   "id": "6ca435fd",
   "metadata": {},
   "outputs": [
    {
     "data": {
      "text/html": [
       "<div>\n",
       "<style scoped>\n",
       "    .dataframe tbody tr th:only-of-type {\n",
       "        vertical-align: middle;\n",
       "    }\n",
       "\n",
       "    .dataframe tbody tr th {\n",
       "        vertical-align: top;\n",
       "    }\n",
       "\n",
       "    .dataframe thead th {\n",
       "        text-align: right;\n",
       "    }\n",
       "</style>\n",
       "<table border=\"1\" class=\"dataframe\">\n",
       "  <thead>\n",
       "    <tr style=\"text-align: right;\">\n",
       "      <th></th>\n",
       "      <th>distance_from_home</th>\n",
       "      <th>distance_from_last_transaction</th>\n",
       "      <th>ratio_to_median_purchase_price</th>\n",
       "      <th>repeat_retailer</th>\n",
       "      <th>user_chip</th>\n",
       "      <th>used_pin_number</th>\n",
       "      <th>online_order</th>\n",
       "      <th>fraud</th>\n",
       "    </tr>\n",
       "  </thead>\n",
       "  <tbody>\n",
       "    <tr>\n",
       "      <th>0</th>\n",
       "      <td>57.87790</td>\n",
       "      <td>0.311140</td>\n",
       "      <td>1.945940</td>\n",
       "      <td>1</td>\n",
       "      <td>1</td>\n",
       "      <td>0</td>\n",
       "      <td>0</td>\n",
       "      <td>0</td>\n",
       "    </tr>\n",
       "    <tr>\n",
       "      <th>1</th>\n",
       "      <td>10.82990</td>\n",
       "      <td>0.175591</td>\n",
       "      <td>1.294220</td>\n",
       "      <td>1</td>\n",
       "      <td>0</td>\n",
       "      <td>0</td>\n",
       "      <td>0</td>\n",
       "      <td>0</td>\n",
       "    </tr>\n",
       "    <tr>\n",
       "      <th>2</th>\n",
       "      <td>5.09108</td>\n",
       "      <td>0.805153</td>\n",
       "      <td>0.427715</td>\n",
       "      <td>1</td>\n",
       "      <td>0</td>\n",
       "      <td>0</td>\n",
       "      <td>1</td>\n",
       "      <td>0</td>\n",
       "    </tr>\n",
       "    <tr>\n",
       "      <th>3</th>\n",
       "      <td>2.24756</td>\n",
       "      <td>5.600040</td>\n",
       "      <td>0.362663</td>\n",
       "      <td>1</td>\n",
       "      <td>1</td>\n",
       "      <td>0</td>\n",
       "      <td>1</td>\n",
       "      <td>0</td>\n",
       "    </tr>\n",
       "    <tr>\n",
       "      <th>4</th>\n",
       "      <td>44.19090</td>\n",
       "      <td>0.566486</td>\n",
       "      <td>2.222770</td>\n",
       "      <td>1</td>\n",
       "      <td>1</td>\n",
       "      <td>0</td>\n",
       "      <td>1</td>\n",
       "      <td>0</td>\n",
       "    </tr>\n",
       "    <tr>\n",
       "      <th>...</th>\n",
       "      <td>...</td>\n",
       "      <td>...</td>\n",
       "      <td>...</td>\n",
       "      <td>...</td>\n",
       "      <td>...</td>\n",
       "      <td>...</td>\n",
       "      <td>...</td>\n",
       "      <td>...</td>\n",
       "    </tr>\n",
       "    <tr>\n",
       "      <th>995</th>\n",
       "      <td>9.87342</td>\n",
       "      <td>1.022590</td>\n",
       "      <td>0.346643</td>\n",
       "      <td>1</td>\n",
       "      <td>0</td>\n",
       "      <td>0</td>\n",
       "      <td>0</td>\n",
       "      <td>0</td>\n",
       "    </tr>\n",
       "    <tr>\n",
       "      <th>996</th>\n",
       "      <td>168.09200</td>\n",
       "      <td>6.304360</td>\n",
       "      <td>0.416833</td>\n",
       "      <td>1</td>\n",
       "      <td>1</td>\n",
       "      <td>0</td>\n",
       "      <td>0</td>\n",
       "      <td>0</td>\n",
       "    </tr>\n",
       "    <tr>\n",
       "      <th>997</th>\n",
       "      <td>44.04760</td>\n",
       "      <td>0.510298</td>\n",
       "      <td>0.624706</td>\n",
       "      <td>1</td>\n",
       "      <td>0</td>\n",
       "      <td>0</td>\n",
       "      <td>1</td>\n",
       "      <td>0</td>\n",
       "    </tr>\n",
       "    <tr>\n",
       "      <th>998</th>\n",
       "      <td>2.99842</td>\n",
       "      <td>0.193681</td>\n",
       "      <td>0.743416</td>\n",
       "      <td>1</td>\n",
       "      <td>1</td>\n",
       "      <td>0</td>\n",
       "      <td>1</td>\n",
       "      <td>0</td>\n",
       "    </tr>\n",
       "    <tr>\n",
       "      <th>999</th>\n",
       "      <td>38.13340</td>\n",
       "      <td>0.167059</td>\n",
       "      <td>3.965640</td>\n",
       "      <td>1</td>\n",
       "      <td>0</td>\n",
       "      <td>0</td>\n",
       "      <td>1</td>\n",
       "      <td>0</td>\n",
       "    </tr>\n",
       "  </tbody>\n",
       "</table>\n",
       "<p>1000 rows × 8 columns</p>\n",
       "</div>"
      ],
      "text/plain": [
       "     distance_from_home  distance_from_last_transaction  \\\n",
       "0              57.87790                        0.311140   \n",
       "1              10.82990                        0.175591   \n",
       "2               5.09108                        0.805153   \n",
       "3               2.24756                        5.600040   \n",
       "4              44.19090                        0.566486   \n",
       "..                  ...                             ...   \n",
       "995             9.87342                        1.022590   \n",
       "996           168.09200                        6.304360   \n",
       "997            44.04760                        0.510298   \n",
       "998             2.99842                        0.193681   \n",
       "999            38.13340                        0.167059   \n",
       "\n",
       "     ratio_to_median_purchase_price  repeat_retailer  user_chip  \\\n",
       "0                          1.945940                1          1   \n",
       "1                          1.294220                1          0   \n",
       "2                          0.427715                1          0   \n",
       "3                          0.362663                1          1   \n",
       "4                          2.222770                1          1   \n",
       "..                              ...              ...        ...   \n",
       "995                        0.346643                1          0   \n",
       "996                        0.416833                1          1   \n",
       "997                        0.624706                1          0   \n",
       "998                        0.743416                1          1   \n",
       "999                        3.965640                1          0   \n",
       "\n",
       "     used_pin_number  online_order  fraud  \n",
       "0                  0             0      0  \n",
       "1                  0             0      0  \n",
       "2                  0             1      0  \n",
       "3                  0             1      0  \n",
       "4                  0             1      0  \n",
       "..               ...           ...    ...  \n",
       "995                0             0      0  \n",
       "996                0             0      0  \n",
       "997                0             1      0  \n",
       "998                0             1      0  \n",
       "999                0             1      0  \n",
       "\n",
       "[1000 rows x 8 columns]"
      ]
     },
     "execution_count": 135,
     "metadata": {},
     "output_type": "execute_result"
    }
   ],
   "source": [
    "df_i"
   ]
  },
  {
   "cell_type": "code",
   "execution_count": 186,
   "id": "eed40b23",
   "metadata": {},
   "outputs": [
    {
     "data": {
      "text/plain": [
       "0"
      ]
     },
     "execution_count": 186,
     "metadata": {},
     "output_type": "execute_result"
    }
   ],
   "source": [
    "df_full[(df_full[\"distance_from_home\"].round(4) == df[\"distance_from_home\"][0].round(4)) & (df_full[\"distance_from_last_transaction\"].round(4) == df[\"distance_from_last_transaction\"][0].round(4))&(df_full[\"ratio_to_median_purchase_price\"].round(4) == df[\"ratio_to_median_purchase_price\"][0].round(4))&(df_full[\"repeat_retailer\"].round(4) == df[\"repeat_retailer\"][0].round(4))&(df_full[\"user_chip\"].round(4) == df[\"user_chip\"][0].round(4))&(df_full[\"used_pin_number\"].round(4) == df[\"used_pin_number\"][0].round(4))&(df_full[\"online_order\"].round(4) == df[\"online_order\"][0].round(4))][\"fraud\"].iloc[0]"
   ]
  },
  {
   "cell_type": "code",
   "execution_count": 177,
   "id": "e489a4f2",
   "metadata": {},
   "outputs": [
    {
     "data": {
      "text/plain": [
       "distance_from_home                2.9149\n",
       "distance_from_last_transaction    1.4727\n",
       "ratio_to_median_purchase_price    0.2181\n",
       "repeat_retailer                   1.0000\n",
       "user_chip                         1.0000\n",
       "used_pin_number                   0.0000\n",
       "online_order                      1.0000\n",
       "fraud                             0.0000\n",
       "Name: 999997, dtype: float64"
      ]
     },
     "execution_count": 177,
     "metadata": {},
     "output_type": "execute_result"
    }
   ],
   "source": [
    "df_full.loc[999997].round(4)"
   ]
  },
  {
   "cell_type": "code",
   "execution_count": 178,
   "id": "b1e60441",
   "metadata": {},
   "outputs": [
    {
     "data": {
      "text/plain": [
       "distance_from_home                2.9149\n",
       "distance_from_last_transaction    1.4727\n",
       "ratio_to_median_purchase_price    0.2181\n",
       "repeat_retailer                   1.0000\n",
       "user_chip                         1.0000\n",
       "used_pin_number                   0.0000\n",
       "online_order                      1.0000\n",
       "Name: 0, dtype: float64"
      ]
     },
     "execution_count": 178,
     "metadata": {},
     "output_type": "execute_result"
    }
   ],
   "source": [
    "df.iloc[0].round(4)"
   ]
  },
  {
   "cell_type": "code",
   "execution_count": null,
   "id": "bae61173",
   "metadata": {},
   "outputs": [],
   "source": []
  }
 ],
 "metadata": {
  "kernelspec": {
   "display_name": "Python 3 (ipykernel)",
   "language": "python",
   "name": "python3"
  },
  "language_info": {
   "codemirror_mode": {
    "name": "ipython",
    "version": 3
   },
   "file_extension": ".py",
   "mimetype": "text/x-python",
   "name": "python",
   "nbconvert_exporter": "python",
   "pygments_lexer": "ipython3",
   "version": "3.10.8"
  }
 },
 "nbformat": 4,
 "nbformat_minor": 5
}
