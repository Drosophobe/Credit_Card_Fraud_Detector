{
 "cells": [
  {
   "cell_type": "code",
   "execution_count": 11,
   "id": "23bfd25c",
   "metadata": {},
   "outputs": [],
   "source": [
    "from typing import Tuple\n",
    "import json\n",
    "\n",
    "import numpy as np \n",
    "import requests \n",
    "# import preprocessing also"
   ]
  },
  {
   "cell_type": "code",
   "execution_count": 12,
   "id": "d815af93",
   "metadata": {},
   "outputs": [],
   "source": [
    "SERVICE_URL = 'http://localhost:3000/detection'\n",
    "A=\"[[4.158589,0.079312,8.314564,1,0,0,1]]\""
   ]
  },
  {
   "cell_type": "code",
   "execution_count": 13,
   "id": "b0a03bca",
   "metadata": {},
   "outputs": [
    {
     "data": {
      "text/plain": [
       "'[1.0]'"
      ]
     },
     "execution_count": 13,
     "metadata": {},
     "output_type": "execute_result"
    }
   ],
   "source": [
    "requests.post(SERVICE_URL, \n",
    "             headers = {\"content-type\":\"application/json\"},\n",
    "              data=A).text"
   ]
  },
  {
   "cell_type": "code",
   "execution_count": null,
   "id": "1a55c976",
   "metadata": {},
   "outputs": [],
   "source": []
  }
 ],
 "metadata": {
  "kernelspec": {
   "display_name": "Python 3 (ipykernel)",
   "language": "python",
   "name": "python3"
  },
  "language_info": {
   "codemirror_mode": {
    "name": "ipython",
    "version": 3
   },
   "file_extension": ".py",
   "mimetype": "text/x-python",
   "name": "python",
   "nbconvert_exporter": "python",
   "pygments_lexer": "ipython3",
   "version": "3.9.9"
  }
 },
 "nbformat": 4,
 "nbformat_minor": 5
}
