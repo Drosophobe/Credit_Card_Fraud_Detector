{
 "cells": [
  {
   "cell_type": "code",
   "execution_count": 7,
   "id": "1a7a87cb",
   "metadata": {},
   "outputs": [],
   "source": [
    "import numpy as np\n",
    "import pandas as pd \n",
    "import bentoml \n",
    "from bentoml.io import NumpyNdarray"
   ]
  },
  {
   "cell_type": "code",
   "execution_count": 3,
   "id": "c9ccb773",
   "metadata": {},
   "outputs": [],
   "source": [
    "BENTO_MODEL_TAG = \"ccf_partial:zrasw7taegklxjuo\""
   ]
  },
  {
   "cell_type": "code",
   "execution_count": 13,
   "id": "cc2b79f9",
   "metadata": {},
   "outputs": [],
   "source": [
    "#ccf_runner = bentoml.sklearn.get(\"ccf_partial:latest\").to_runner()\n",
    "ccf_runner = bentoml.sklearn.get(BENTO_MODEL_TAG).to_runner()"
   ]
  },
  {
   "cell_type": "code",
   "execution_count": 14,
   "id": "aefd2368",
   "metadata": {},
   "outputs": [
    {
     "name": "stderr",
     "output_type": "stream",
     "text": [
      "Converting Credit_Card_Fraud_Detector to lowercase: credit_card_fraud_detector.\n"
     ]
    }
   ],
   "source": [
    "ccf_service = bentoml.Service(\"Credit_Card_Fraud_Detector\", runners = [ccf_runner])"
   ]
  },
  {
   "cell_type": "code",
   "execution_count": 15,
   "id": "243220b2",
   "metadata": {},
   "outputs": [],
   "source": [
    "@ccf_service.api(input=NumpyNdarray(), output=NumpyNdarray()) \n",
    "def detection(input_data: np.ndarray) -> np.ndarray:\n",
    "    return ccf_runner.predict.run(input_data)"
   ]
  },
  {
   "cell_type": "code",
   "execution_count": null,
   "id": "cecb1ea9",
   "metadata": {},
   "outputs": [],
   "source": []
  }
 ],
 "metadata": {
  "kernelspec": {
   "display_name": "Python 3 (ipykernel)",
   "language": "python",
   "name": "python3"
  },
  "language_info": {
   "codemirror_mode": {
    "name": "ipython",
    "version": 3
   },
   "file_extension": ".py",
   "mimetype": "text/x-python",
   "name": "python",
   "nbconvert_exporter": "python",
   "pygments_lexer": "ipython3",
   "version": "3.9.9"
  }
 },
 "nbformat": 4,
 "nbformat_minor": 5
}
